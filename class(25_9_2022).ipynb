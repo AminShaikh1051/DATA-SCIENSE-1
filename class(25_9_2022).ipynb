{
  "nbformat": 4,
  "nbformat_minor": 0,
  "metadata": {
    "colab": {
      "provenance": [],
      "collapsed_sections": [],
      "authorship_tag": "ABX9TyM1iSdSXCjzOwyrzYXtBnri",
      "include_colab_link": true
    },
    "kernelspec": {
      "name": "python3",
      "display_name": "Python 3"
    },
    "language_info": {
      "name": "python"
    }
  },
  "cells": [
    {
      "cell_type": "markdown",
      "metadata": {
        "id": "view-in-github",
        "colab_type": "text"
      },
      "source": [
        "<a href=\"https://colab.research.google.com/github/AminShaikh1051/DATA-SCIENSE-1/blob/main/class(25_9_2022).ipynb\" target=\"_parent\"><img src=\"https://colab.research.google.com/assets/colab-badge.svg\" alt=\"Open In Colab\"/></a>"
      ]
    },
    {
      "cell_type": "markdown",
      "source": [
        "# AGENDA\n",
        "1. VARIABLE CASE SENSITIVITY\n",
        "2. RESERVED WORDS IN PYTHON\n",
        "3. MULTI ASSIGNMENT OF VARIABLES\n",
        "4. USER INPUT\n",
        "5. TYPE CASTING | TYPE CONVERSION\n",
        "6. MEMORY BLOCK\n",
        "7. OPERATORS\n",
        "   - LOGICAL\n",
        "   -EQUALITY\n",
        "   COMPARISON\n",
        "   ARTHMATIC\n",
        "   BITWISE\n",
        "   OPERATORS FOR SETS AND DICTIONARY\n",
        "8. STRING METHODS\n"
      ],
      "metadata": {
        "id": "RyMjVkJzIY39"
      }
    },
    {
      "cell_type": "code",
      "execution_count": null,
      "metadata": {
        "id": "jVNWBZW_IRSS"
      },
      "outputs": [],
      "source": [
        "#1. VARIABLE CASE SENSITIVITY"
      ]
    },
    {
      "cell_type": "code",
      "source": [
        "TEN = 10\n",
        "ten = 20\n",
        "# both are differnet variables.(python is case sensitive)"
      ],
      "metadata": {
        "id": "tZ2LLhtsJu38"
      },
      "execution_count": null,
      "outputs": []
    },
    {
      "cell_type": "code",
      "source": [
        "print(ten)"
      ],
      "metadata": {
        "colab": {
          "base_uri": "https://localhost:8080/"
        },
        "id": "8yPLdzzwKAlr",
        "outputId": "58fe8693-2451-489a-b573-fda238a4f429"
      },
      "execution_count": null,
      "outputs": [
        {
          "output_type": "stream",
          "name": "stdout",
          "text": [
            "20\n"
          ]
        }
      ]
    },
    {
      "cell_type": "code",
      "source": [
        "# 2. RESERVED WORDS IN PYTHON"
      ],
      "metadata": {
        "id": "HQba0dUAKHnz"
      },
      "execution_count": null,
      "outputs": []
    },
    {
      "cell_type": "code",
      "source": [
        "a,b,c,yes = 10,20,\"sunny\", True\n",
        "type(a)"
      ],
      "metadata": {
        "colab": {
          "base_uri": "https://localhost:8080/"
        },
        "id": "gFM7Y920L1lg",
        "outputId": "6c6084dd-00fc-43e6-a9fc-0ffbf384671a"
      },
      "execution_count": null,
      "outputs": [
        {
          "output_type": "execute_result",
          "data": {
            "text/plain": [
              "int"
            ]
          },
          "metadata": {},
          "execution_count": 12
        }
      ]
    },
    {
      "cell_type": "code",
      "source": [
        "type(b)"
      ],
      "metadata": {
        "colab": {
          "base_uri": "https://localhost:8080/"
        },
        "id": "SX7c26htMpN1",
        "outputId": "a981b106-6678-451e-a54b-498ec671519b"
      },
      "execution_count": null,
      "outputs": [
        {
          "output_type": "execute_result",
          "data": {
            "text/plain": [
              "int"
            ]
          },
          "metadata": {},
          "execution_count": 9
        }
      ]
    },
    {
      "cell_type": "code",
      "source": [
        "type(yes)"
      ],
      "metadata": {
        "colab": {
          "base_uri": "https://localhost:8080/"
        },
        "id": "--sYhhRqMs1V",
        "outputId": "01cb779b-11e0-4ff7-8cc0-943d1134a066"
      },
      "execution_count": null,
      "outputs": [
        {
          "output_type": "execute_result",
          "data": {
            "text/plain": [
              "bool"
            ]
          },
          "metadata": {},
          "execution_count": 13
        }
      ]
    },
    {
      "cell_type": "code",
      "source": [
        "type(a,b)"
      ],
      "metadata": {
        "colab": {
          "base_uri": "https://localhost:8080/",
          "height": 166
        },
        "id": "btdotgOyMu-D",
        "outputId": "4e123053-d20e-4ade-ea19-6960a7ec6431"
      },
      "execution_count": null,
      "outputs": [
        {
          "output_type": "error",
          "ename": "TypeError",
          "evalue": "ignored",
          "traceback": [
            "\u001b[0;31m---------------------------------------------------------------------------\u001b[0m",
            "\u001b[0;31mTypeError\u001b[0m                                 Traceback (most recent call last)",
            "\u001b[0;32m<ipython-input-14-de8c796b637e>\u001b[0m in \u001b[0;36m<module>\u001b[0;34m\u001b[0m\n\u001b[0;32m----> 1\u001b[0;31m \u001b[0mtype\u001b[0m\u001b[0;34m(\u001b[0m\u001b[0ma\u001b[0m\u001b[0;34m,\u001b[0m\u001b[0mb\u001b[0m\u001b[0;34m)\u001b[0m\u001b[0;34m\u001b[0m\u001b[0;34m\u001b[0m\u001b[0m\n\u001b[0m",
            "\u001b[0;31mTypeError\u001b[0m: type() takes 1 or 3 arguments"
          ]
        }
      ]
    },
    {
      "cell_type": "code",
      "source": [],
      "metadata": {
        "id": "X-trm5NTNj70"
      },
      "execution_count": null,
      "outputs": []
    }
  ]
}